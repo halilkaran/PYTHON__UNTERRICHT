{
 "cells": [
  {
   "cell_type": "code",
   "execution_count": 3,
   "metadata": {},
   "outputs": [
    {
     "name": "stdout",
     "output_type": "stream",
     "text": [
      "0.0.0.32\n"
     ]
    }
   ],
   "source": [
    "dec=int(input(\"bitte ihre nummer eingegeben\"))\n",
    "binary=bin(dec)[2:]                 ###### sebebi ciktiyi 0b 01010000 diye verdigi icin 0b yi silmek icin\n",
    "if len(binary)<32 :\n",
    "    binary=\"0\"*(32-len(binary)) + binary\n",
    "ipv4list = []\n",
    "for i in range(0, 32, 8):          ###### burda 8 li 8 li aliyoruz\n",
    "    ipv4list.append(str(int(binary[i:i+8], 2)))         ##### int fonksiyonu özelligi eger sitring ifade varsa onu 2-36 arasinda \n",
    "                                                        ######yazarak istedigimiz tabana cevirebiliriz\n",
    "                                                        ###### str ye cevirme sebebimiz join methodu nu kullanabilmek icin \n",
    "print(\".\".join(ipv4list))"
   ]
  },
  {
   "cell_type": "code",
   "execution_count": 4,
   "metadata": {},
   "outputs": [
    {
     "data": {
      "text/plain": [
       "'00000111010110110111000111011011'"
      ]
     },
     "execution_count": 4,
     "metadata": {},
     "output_type": "execute_result"
    }
   ],
   "source": [
    "dec = 123433435\n",
    "bina= f\"{dec:0>32b}\"   #        ####      burada f sitring metodu var 0>32 islemi 32 basamaga tamamla ve saga yasla kaalnlara 0 koy \n",
    "                                    ## b # ise binary e ceviriyor  #x# hexedecimal #o# 8lik gibi \n",
    "                                    ## 0 yerine baska biseylede doldurabileirdik \n",
    "                                    ##< yerine ^ koyarsak ortalar\n",
    "bina"
   ]
  },
  {
   "cell_type": "code",
   "execution_count": 13,
   "metadata": {},
   "outputs": [
    {
     "name": "stdout",
     "output_type": "stream",
     "text": [
      "    *     \n",
      "   ***    \n",
      "  *****   \n",
      " *******  \n",
      "********* \n"
     ]
    }
   ],
   "source": [
    "x=[print(f\"{'*'*i: ^10}\") for i in range(1,10,2)]"
   ]
  },
  {
   "cell_type": "code",
   "execution_count": 14,
   "metadata": {},
   "outputs": [],
   "source": [
    "calculator = {\n",
    "    \"+\": (lambda x,y: x+y),\n",
    "    \"-\": (lambda x,y: x-y)\n",
    "}"
   ]
  },
  {
   "cell_type": "code",
   "execution_count": 15,
   "metadata": {},
   "outputs": [
    {
     "data": {
      "text/plain": [
       "7"
      ]
     },
     "execution_count": 15,
     "metadata": {},
     "output_type": "execute_result"
    }
   ],
   "source": [
    "islem = input(\"islem gir\")\n",
    "calculator[islem](3,4)"
   ]
  },
  {
   "cell_type": "code",
   "execution_count": null,
   "metadata": {},
   "outputs": [],
   "source": [
    "## 3 buyuk harf 3 kucukharf  2 karakter  ve 3 sayi icerenolan bir random sifre "
   ]
  },
  {
   "cell_type": "code",
   "execution_count": 18,
   "metadata": {},
   "outputs": [
    {
     "data": {
      "text/plain": [
       "29"
      ]
     },
     "execution_count": 18,
     "metadata": {},
     "output_type": "execute_result"
    }
   ],
   "source": [
    "import random\n",
    "random.randint(25,48)"
   ]
  },
  {
   "cell_type": "code",
   "execution_count": null,
   "metadata": {},
   "outputs": [],
   "source": [
    "##buyuk harf ascii de 65 90\n",
    "## kucuk harf ascii 97 122\n",
    "## karakter  ascii 33 47 ve58 64 arasi \n",
    "# rakamlaer ascii  48 57  "
   ]
  },
  {
   "cell_type": "code",
   "execution_count": 28,
   "metadata": {},
   "outputs": [
    {
     "data": {
      "text/plain": [
       "'Yu4nB>6&fZ4'"
      ]
     },
     "execution_count": 28,
     "metadata": {},
     "output_type": "execute_result"
    }
   ],
   "source": [
    "uppers = [chr(random.randint(65,90)) for i in range(3)]             ## karektere cevirip random bulup 3 kere liste icine attik \n",
    "lowers = [chr(random.randint(97,122)) for i in range(3)]\n",
    "char = [chr(random.randint(33,47))]\n",
    "char1 = [chr(random.randint(58,64))]\n",
    "numbers = [chr(random.randint(48,57)) for i in range(3)]\n",
    "\n",
    "password = uppers + lowers +char + numbers + char1\n",
    "random.shuffle(password)\n",
    "\"\".join(password)"
   ]
  },
  {
   "cell_type": "code",
   "execution_count": null,
   "metadata": {},
   "outputs": [],
   "source": []
  },
  {
   "cell_type": "markdown",
   "metadata": {},
   "source": [
    "##ZAMAN OLCME  ###"
   ]
  },
  {
   "cell_type": "code",
   "execution_count": 29,
   "metadata": {},
   "outputs": [],
   "source": [
    "from timeit import timeit"
   ]
  },
  {
   "cell_type": "code",
   "execution_count": 30,
   "metadata": {},
   "outputs": [],
   "source": [
    "\n",
    "def for_loop():\n",
    "    result =[]\n",
    "    for i in range(1000000):\n",
    "        result.append(i)\n",
    "    return result"
   ]
  },
  {
   "cell_type": "code",
   "execution_count": 31,
   "metadata": {},
   "outputs": [],
   "source": [
    "def list_comp():\n",
    "    return [i for i in range(1000000)]"
   ]
  },
  {
   "cell_type": "code",
   "execution_count": 35,
   "metadata": {},
   "outputs": [],
   "source": [
    "time_for = timeit(for_loop, number = 100)\n",
    "time_loop = timeit(list_comp, number = 100)"
   ]
  },
  {
   "cell_type": "code",
   "execution_count": 37,
   "metadata": {},
   "outputs": [
    {
     "name": "stdout",
     "output_type": "stream",
     "text": [
      "7.019540000008419 4.582842400006484\n",
      "1.53170006457095\n"
     ]
    }
   ],
   "source": [
    "print(time_for, time_loop)\n",
    "print(time_for/ time_loop)"
   ]
  },
  {
   "cell_type": "code",
   "execution_count": null,
   "metadata": {},
   "outputs": [],
   "source": []
  }
 ],
 "metadata": {
  "interpreter": {
   "hash": "a568b988ef59356f541e1651d71651afaaa30954598b2be60c6c7b4eea9fbfac"
  },
  "kernelspec": {
   "display_name": "Python 3.10.0 64-bit",
   "language": "python",
   "name": "python3"
  },
  "language_info": {
   "codemirror_mode": {
    "name": "ipython",
    "version": 3
   },
   "file_extension": ".py",
   "mimetype": "text/x-python",
   "name": "python",
   "nbconvert_exporter": "python",
   "pygments_lexer": "ipython3",
   "version": "3.10.0"
  },
  "orig_nbformat": 4
 },
 "nbformat": 4,
 "nbformat_minor": 2
}
