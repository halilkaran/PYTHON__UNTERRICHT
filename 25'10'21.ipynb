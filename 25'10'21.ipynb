{
 "cells": [
  {
   "cell_type": "code",
   "execution_count": 12,
   "metadata": {},
   "outputs": [
    {
     "name": "stdout",
     "output_type": "stream",
     "text": [
      "haLil Karan ortaokulu\n",
      "halil Karan ortaokulu\n"
     ]
    }
   ],
   "source": [
    "text= \"halil Karan ortaokulu\"\n",
    "print(text.replace(\"l\",\"L\",1))\n"
   ]
  },
  {
   "cell_type": "code",
   "execution_count": null,
   "metadata": {},
   "outputs": [],
   "source": []
  },
  {
   "cell_type": "code",
   "execution_count": 13,
   "metadata": {},
   "outputs": [
    {
     "name": "stdout",
     "output_type": "stream",
     "text": [
      "haLiL Karan ortaokuLu\n"
     ]
    }
   ],
   "source": [
    "text = \"halil Karan ortaokulu\"\n",
    "print(text.replace(\"l\", \"L\", -1))  #hepsini degistirir\n",
    "\n"
   ]
  },
  {
   "cell_type": "code",
   "execution_count": 14,
   "metadata": {},
   "outputs": [
    {
     "name": "stdout",
     "output_type": "stream",
     "text": [
      "hLlil KLrLn ortaokulu\n"
     ]
    }
   ],
   "source": [
    "text = \"halil Karan ortaokulu\"\n",
    "print(text.replace(\"a\", \"L\", 3)) # count kadr soldan degistirir\n"
   ]
  },
  {
   "cell_type": "code",
   "execution_count": 16,
   "metadata": {},
   "outputs": [
    {
     "name": "stdout",
     "output_type": "stream",
     "text": [
      "halil Karan ortao\n"
     ]
    }
   ],
   "source": [
    "print(text.strip(\"kalu\"))"
   ]
  },
  {
   "cell_type": "code",
   "execution_count": 2,
   "metadata": {},
   "outputs": [
    {
     "name": "stdout",
     "output_type": "stream",
     "text": [
      "1 2\n"
     ]
    }
   ],
   "source": [
    "print(input(\"ilksayi\") , input(\"ikinci sayi\"))"
   ]
  },
  {
   "cell_type": "code",
   "execution_count": 9,
   "metadata": {},
   "outputs": [
    {
     "data": {
      "text/plain": [
       "True"
      ]
     },
     "execution_count": 9,
     "metadata": {},
     "output_type": "execute_result"
    }
   ],
   "source": [
    "course=\"22\"\n",
    "# result = course.isalpha()\n",
    "# result\n",
    "# result = 'Hello'.isalpha()\n",
    "# result\n",
    "# result = course.isdigit()\n",
    "# result\n",
    "result = '123'.isdigit()\n",
    "result\n"
   ]
  },
  {
   "cell_type": "code",
   "execution_count": 16,
   "metadata": {},
   "outputs": [
    {
     "name": "stdout",
     "output_type": "stream",
     "text": [
      "21\n",
      "22\n"
     ]
    }
   ],
   "source": [
    "a= \"bugun hava cok güzel.\"\n",
    "print(len(a))\n",
    "print(a.count(\"\"))\n",
    "\n"
   ]
  },
  {
   "cell_type": "code",
   "execution_count": null,
   "metadata": {},
   "outputs": [],
   "source": [
    "print(\"After {} day{} your money reach to\".format(x, if x == 1, else +\"s\"))\n",
    "After 1 day your money reach to:        1070.00\n",
    "After 2 days your money reach to:       1144.90\n",
    "print(\"{}{}\".format(x, logilcal))  # 1 st 2 nd 3 rd 4546 th\n",
    "# 1st\n",
    "# 2nd\n",
    "# 3rd\n",
    "# 4.... th\n"
   ]
  },
  {
   "cell_type": "code",
   "execution_count": 1,
   "metadata": {},
   "outputs": [
    {
     "name": "stdout",
     "output_type": "stream",
     "text": [
      "1st\n",
      "2nd\n",
      "3rd\n"
     ]
    }
   ],
   "source": [
    "x = input(\"sayi gir\")\n",
    "y = int(x)\n",
    "for i in range(1, y+1):\n",
    "\n",
    "    print(\"{}{}\".format(i, ( 10 < i%100 < 14 and \"th\") or  (i % 10 == 1 and \"st\")\n",
    "                        or (i % 10 == 2 and \"nd\")\n",
    "                        or (i % 10 == 3 and \"rd\")\n",
    "                        or \"th\"))\n",
    "                        \n"
   ]
  },
  {
   "cell_type": "code",
   "execution_count": null,
   "metadata": {},
   "outputs": [],
   "source": []
  }
 ],
 "metadata": {
  "interpreter": {
   "hash": "a568b988ef59356f541e1651d71651afaaa30954598b2be60c6c7b4eea9fbfac"
  },
  "kernelspec": {
   "display_name": "Python 3.10.0 64-bit",
   "name": "python3"
  },
  "language_info": {
   "codemirror_mode": {
    "name": "ipython",
    "version": 3
   },
   "file_extension": ".py",
   "mimetype": "text/x-python",
   "name": "python",
   "nbconvert_exporter": "python",
   "pygments_lexer": "ipython3",
   "version": "3.10.0"
  },
  "orig_nbformat": 4
 },
 "nbformat": 4,
 "nbformat_minor": 2
}
