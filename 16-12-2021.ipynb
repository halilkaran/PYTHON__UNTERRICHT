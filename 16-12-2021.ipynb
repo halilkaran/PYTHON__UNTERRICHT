{
 "cells": [
  {
   "cell_type": "code",
   "execution_count": 1,
   "metadata": {},
   "outputs": [],
   "source": [
    "fruits = [\"banana\", \"mango\", \"pear\", \"apple\", \"kiwi\", \"grape\"]"
   ]
  },
  {
   "cell_type": "code",
   "execution_count": 3,
   "metadata": {},
   "outputs": [
    {
     "name": "stdout",
     "output_type": "stream",
     "text": [
      " favorite furit : pear\n"
     ]
    }
   ],
   "source": [
    "while True:\n",
    "    try:\n",
    "        index = int(input(\"favorite fruits\"))\n",
    "        print(f\" favorite furit : {fruits[index]}\")\n",
    "        break\n",
    "    except ValueError:\n",
    "        print(\"muss integer geben \")\n",
    "    except IndexError:\n",
    "        print(\"index falsch\")"
   ]
  },
  {
   "cell_type": "code",
   "execution_count": null,
   "metadata": {},
   "outputs": [],
   "source": []
  },
  {
   "cell_type": "code",
   "execution_count": null,
   "metadata": {},
   "outputs": [],
   "source": [
    "counter = 3\n",
    "\n",
    "while counter:\n",
    "    try:\n",
    "        print(f\"toplam {counter} hakkiniz var\")\n",
    "        index = int(input(\"favorite fruits\"))\n",
    "        print(f\" favorite furit : {fruits[index]}\")\n",
    "        \n",
    "    except ValueError:\n",
    "        counter -=1\n",
    "        print(\"muss integer geben \")\n",
    "    except IndexError:\n",
    "        counter -=1\n",
    "        print(\"index falsch\")\n",
    "    else:\n",
    "        print(\"Congrats! \")\n",
    "        break\n",
    "    finally:\n",
    "        print(\" fruits alwas fresh\")"
   ]
  },
  {
   "cell_type": "code",
   "execution_count": 4,
   "metadata": {},
   "outputs": [
    {
     "data": {
      "text/plain": [
       "'c:\\\\Users\\\\halil\\\\Masaüstü\\\\PYTHON__UNTERRICHT'"
      ]
     },
     "execution_count": 4,
     "metadata": {},
     "output_type": "execute_result"
    }
   ],
   "source": [
    "pwd"
   ]
  },
  {
   "cell_type": "code",
   "execution_count": 4,
   "metadata": {},
   "outputs": [
    {
     "name": "stdout",
     "output_type": "stream",
     "text": [
      "Bedava yaşıyoruz, bedava;\n",
      "Hava bedava, bulut bedava;\n",
      "Dere tepe bedava;\n",
      "Yağmur çamur bedava;\n",
      "Otomobillerin dışı,\n",
      "Sinemaların kapısı,\n",
      "Camekanlar bedava;\n",
      "Peynir ekmek değil ama\n",
      "Acı su bedava;\n",
      "Kelle fiyatına hürriyet,\n",
      "Esirlik bedava;\n",
      "Bedava yaşıyoruz, bedava.\n"
     ]
    }
   ],
   "source": [
    "siir = open(\"bedava.txt\", \"r\", encoding = \"utf-8\")\n",
    "print(siir.read())\n",
    "siir.close()"
   ]
  },
  {
   "cell_type": "code",
   "execution_count": 6,
   "metadata": {},
   "outputs": [
    {
     "name": "stdout",
     "output_type": "stream",
     "text": [
      "Bedava\n"
     ]
    }
   ],
   "source": [
    "siir = open(\"bedava.txt\", \"r\", encoding = \"utf-8\")\n",
    "print(siir.read(6))                 ### satir asagi gecerkenki enter da bir karakter oluyor\n",
    "siir.close()"
   ]
  },
  {
   "cell_type": "code",
   "execution_count": 7,
   "metadata": {},
   "outputs": [
    {
     "name": "stdout",
     "output_type": "stream",
     "text": [
      "oruz, \n"
     ]
    }
   ],
   "source": [
    "siir = open(\"bedava.txt\", \"r\", encoding = \"utf-8\")\n",
    "siir.seek(14)                   ### imlecin baslangicini degistirdik\n",
    "print(siir.read(6))                 \n",
    "siir.close()"
   ]
  },
  {
   "cell_type": "code",
   "execution_count": 16,
   "metadata": {},
   "outputs": [
    {
     "name": "stdout",
     "output_type": "stream",
     "text": [
      "oruz, \n",
      "20\n"
     ]
    }
   ],
   "source": [
    "siir = open(\"bedava.txt\", \"r\", encoding = \"utf-8\")\n",
    "siir.seek(14)\n",
    "print(siir.read(6))\n",
    "print(siir.tell() )                 \n",
    "siir.close()"
   ]
  },
  {
   "cell_type": "code",
   "execution_count": null,
   "metadata": {},
   "outputs": [],
   "source": []
  }
 ],
 "metadata": {
  "interpreter": {
   "hash": "a568b988ef59356f541e1651d71651afaaa30954598b2be60c6c7b4eea9fbfac"
  },
  "kernelspec": {
   "display_name": "Python 3.10.0 64-bit",
   "language": "python",
   "name": "python3"
  },
  "language_info": {
   "codemirror_mode": {
    "name": "ipython",
    "version": 3
   },
   "file_extension": ".py",
   "mimetype": "text/x-python",
   "name": "python",
   "nbconvert_exporter": "python",
   "pygments_lexer": "ipython3",
   "version": "3.10.0"
  },
  "orig_nbformat": 4
 },
 "nbformat": 4,
 "nbformat_minor": 2
}
