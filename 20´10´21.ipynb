{
 "cells": [
  {
   "cell_type": "code",
   "execution_count": 3,
   "metadata": {},
   "outputs": [
    {
     "name": "stdout",
     "output_type": "stream",
     "text": [
      "4.5\n"
     ]
    }
   ],
   "source": [
    "count=0\n",
    "toplam_not =0\n",
    "while count<10:\n",
    "    not_ = int(input(\"not gir\"))\n",
    "    toplam_not = toplam_not + not_ \n",
    "    count +=1\n",
    "print(toplam_not/10)    "
   ]
  },
  {
   "cell_type": "code",
   "execution_count": null,
   "metadata": {},
   "outputs": [],
   "source": []
  },
  {
   "cell_type": "code",
   "execution_count": 7,
   "metadata": {},
   "outputs": [
    {
     "name": "stdout",
     "output_type": "stream",
     "text": [
      "5.6\n"
     ]
    }
   ],
   "source": [
    "count = 0\n",
    "while count < 10:\n",
    "    top = int(input(\"not gir\")) + top \n",
    "    count += 1\n",
    "print(top/10)\n",
    "\n"
   ]
  },
  {
   "cell_type": "code",
   "execution_count": 1,
   "metadata": {},
   "outputs": [
    {
     "name": "stdout",
     "output_type": "stream",
     "text": [
      "29457.02506307134\n"
     ]
    }
   ],
   "source": [
    "day, top = int(input(\"kac gun kalacak\")), int(input(\"toplam para\"))\n",
    "for i in range(0,day):\n",
    "        top = top*0.07 + top\n",
    "print(top)\n",
    "\n"
   ]
  },
  {
   "cell_type": "code",
   "execution_count": 21,
   "metadata": {},
   "outputs": [
    {
     "name": "stdout",
     "output_type": "stream",
     "text": [
      "1070.0\n",
      "1144.9\n",
      "1225.0430000000001\n",
      "1310.79601\n",
      "1402.5517307\n",
      "1500.730351849\n",
      "1605.78147647843\n",
      "1605.78147647843\n"
     ]
    }
   ],
   "source": [
    "day=1\n",
    "pocket= 1000\n",
    "\n",
    "while day<=7:\n",
    "    pocket=pocket + pocket*0.07\n",
    "    print(pocket)\n",
    "    day +=1\n",
    "print(pocket)\n",
    "\n",
    "\n",
    "\n"
   ]
  },
  {
   "cell_type": "code",
   "execution_count": 35,
   "metadata": {},
   "outputs": [
    {
     "name": "stdout",
     "output_type": "stream",
     "text": [
      "                  *\n",
      "                * * *\n",
      "              * * * * *\n",
      "            * * * * * * *\n",
      "          * * * * * * * * *\n",
      "        * * * * * * * * * * *\n",
      "      * * * * * * * * * * * * *\n",
      "    * * * * * * * * * * * * * * *\n",
      "  * * * * * * * * * * * * * * * * *\n",
      "* * * * * * * * * * * * * * * * * * *\n"
     ]
    }
   ],
   "source": [
    "star_zahl = int(input(\"bitte zahl von star  eingeben\"))\n",
    "\n",
    "for i in range(0,star_zahl):\n",
    "    print(*' '*(star_zahl-i-1) + '*'*(2*i+1))\n"
   ]
  },
  {
   "cell_type": "code",
   "execution_count": 66,
   "metadata": {},
   "outputs": [
    {
     "name": "stdout",
     "output_type": "stream",
     "text": [
      "      * \n",
      "    * * *\n",
      "  * * * * *\n"
     ]
    }
   ],
   "source": [
    "star = int(input(\"bitte zahl von star  eingeben\"))\n",
    "\n",
    "for i in range(1, star-1):\n",
    "    print(*\" \"*(star-i-1) + \"*\"*i , end=\" \")\n",
    "    print(*\"*\"*(i-1))\n"
   ]
  },
  {
   "cell_type": "code",
   "execution_count": 61,
   "metadata": {},
   "outputs": [
    {
     "name": "stdout",
     "output_type": "stream",
     "text": [
      "  *  \n",
      " *** \n",
      "*****\n"
     ]
    }
   ],
   "source": [
    "x=int(input(\"yildiz sayisi\"))\n",
    "for i in range(1,x+1,2):\n",
    "    print((\"*\"*i).center(x))\n",
    "\n",
    "\n",
    "\n",
    "\n",
    "#print(Text.center(7))\n",
    "\n",
    "\n"
   ]
  },
  {
   "cell_type": "code",
   "execution_count": 24,
   "metadata": {},
   "outputs": [
    {
     "name": "stdout",
     "output_type": "stream",
     "text": [
      "$ 2000.00\n"
     ]
    }
   ],
   "source": [
    "print(\"$ {:.2f}\".format(2000))\n",
    "print({})\n"
   ]
  },
  {
   "cell_type": "code",
   "execution_count": 25,
   "metadata": {},
   "outputs": [
    {
     "name": "stdout",
     "output_type": "stream",
     "text": [
      "$ 2000.00\n"
     ]
    }
   ],
   "source": [
    "print(f\"$ {(2000):.2f}\")\n",
    "\n"
   ]
  },
  {
   "cell_type": "code",
   "execution_count": 17,
   "metadata": {},
   "outputs": [
    {
     "name": "stdout",
     "output_type": "stream",
     "text": [
      "            *\n",
      "          * * *\n",
      "        * * * * *\n",
      "      * * * * * * *\n",
      "    * * * * * * * * *\n",
      "  * * * * * * * * * * *\n",
      "* * * * * * * * * * * * *\n"
     ]
    }
   ],
   "source": [
    "satir_sayisi =int(input(\"satir sayisi\"))\n",
    "en_son_satirdaki_yildiz_sayisi = satir_sayisi + (satir_sayisi-1)\n",
    "for i in range(0, satir_sayisi):\n",
    "    print(*\" \"*(en_son_satirdaki_yildiz_sayisi//2 - i) + \"*\"*(2*i+1))\n"
   ]
  },
  {
   "cell_type": "code",
   "execution_count": null,
   "metadata": {},
   "outputs": [],
   "source": []
  }
 ],
 "metadata": {
  "interpreter": {
   "hash": "a568b988ef59356f541e1651d71651afaaa30954598b2be60c6c7b4eea9fbfac"
  },
  "kernelspec": {
   "display_name": "Python 3.10.0 64-bit",
   "name": "python3"
  },
  "language_info": {
   "codemirror_mode": {
    "name": "ipython",
    "version": 3
   },
   "file_extension": ".py",
   "mimetype": "text/x-python",
   "name": "python",
   "nbconvert_exporter": "python",
   "pygments_lexer": "ipython3",
   "version": "3.10.0"
  },
  "orig_nbformat": 4
 },
 "nbformat": 4,
 "nbformat_minor": 2
}
